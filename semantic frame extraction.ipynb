{
 "cells": [
  {
   "cell_type": "markdown",
   "metadata": {},
   "source": [
    "# Assignment 2 : semantic frame parsing using conditional random fields <br>\n",
    "This notebook contains a limited implementation of the paper \"Semantic Frame Parsing for Information Extraction : the CALOR corpus\". Limited because we only train and test using 3 different frames. <br>\n",
    "\n",
    "First we will define code for parsing all the corpus data, after parsing we are left with a set of sentences and 3 sets of labels.<br>\n",
    "- semantic label : The semantic label B is given to the first frame element in a sentence, all other frame elements are labeled as I. And words that are not part of a frame are labeled as O. \n",
    "- frame label : The frame label shows to which of the 3 possible frames the word belongs. Or none if it doesn't belong to any.\n",
    "- frame_element label: The label FE is given when a word is part of a frame, the label Target is given when the word is a lexical unit for the frame and all other samples are labeled as none.<br>\n",
    "\n",
    "If a sentence is part of 2 frames, we will duplicate the sample for each of the possible labels. "
   ]
  },
  {
   "cell_type": "code",
   "execution_count": 1,
   "metadata": {},
   "outputs": [],
   "source": [
    "from itertools import chain\n",
    "from pandas import DataFrame\n",
    "import os\n",
    "import csv\n",
    "import pickle\n",
    "import numpy as np\n",
    "import sklearn_crfsuite\n",
    "from sklearn_crfsuite import scorers\n",
    "from sklearn_crfsuite import metrics\n",
    "import scipy\n",
    "from sklearn.model_selection import train_test_split\n",
    "import seaborn as sn\n",
    "import pandas as pd\n",
    "import matplotlib.pyplot as plt\n",
    "import os\n",
    "dir = os.path.dirname('__file__')\n",
    "Data_root = os.path.join(dir, 'calor_frames/')\n",
    "Semantic_labels = ['O', 'B', 'I']\n",
    "Frame_labels = ['Existence', 'Locating' , 'Departing' , 'none']\n",
    "FE_labels = ['FE', 'TARGET', 'none']\n",
    "lexical_units =  [] \n",
    "\n",
    "def split_label(label,lemma):\n",
    "    l = label.split(\":\")\n",
    "    if len(l) == 6:\n",
    "        sem_label, fram_label, fe_label, target, _, _ = l\n",
    "        if ( (fe_label == 'TARGET') and not(lemma in lexical_units) and (fram_label in Frame_labels) ):\n",
    "            lexical_units.append(lemma)\n",
    "        if not(fram_label in Frame_labels):\n",
    "                sem_label, fram_label, fe_label  = Semantic_labels[0] ,Frame_labels[3], FE_labels[2]\n",
    "    else:\n",
    "        sem_label, fram_label, fe_label  = Semantic_labels[0] ,Frame_labels[3], FE_labels[2]\n",
    "    return [sem_label, fram_label, fe_label]\n",
    "def load_data(root = Data_root, load= False):\n",
    "    Sentences = []\n",
    "    Labels = []\n",
    "    sentence = []\n",
    "    sentence_labels =[]\n",
    "    if load:\n",
    "        with open ('sentences', 'rb') as fp:\n",
    "            Sentences = pickle.load(fp)\n",
    "        with open ('labels', 'rb') as fp:\n",
    "            Labels = pickle.load(fp)\n",
    "    else:\n",
    "        for subdir, dirs, files in os.walk(Data_root):\n",
    "            for file in files:\n",
    "                if file[len(file)-3:] == 'tsv':\n",
    "                    f = (os.path.join(subdir, file))\n",
    "                    with open(f) as tsvfile:\n",
    "                        tsvreader = csv.reader(tsvfile, delimiter=\"\\t\")\n",
    "                        for line in tsvreader:\n",
    "                            sentence_labels2 = []\n",
    "                            two_frames = False\n",
    "                            if (len(line) == 12):  # not part of a frame\n",
    "                                name, global_idx, local_idx, word, lemma, pos_tag1, pos_tag2, dep1, dep_id, dep_name,_,_ = line\n",
    "                                label1 = split_label('',lemma)\n",
    "                                sentence.append([lemma,pos_tag2])\n",
    "                                sentence_labels.append(label1)\n",
    "                                sentence_labels2.append(label1)\n",
    "                            if (len(line) == 13):  # part of frame\n",
    "                                name, global_idx,local_idx, word, lemma, pos_tag1, pos_tag2, dep1, dep_id, dep_name,_,_, label = line\n",
    "                                sentence.append([lemma,pos_tag2])\n",
    "                                label1 = split_label(label,lemma)\n",
    "                                sentence_labels.append(label1)\n",
    "                                sentence_labels2.append(label1)\n",
    "                            if (len(line) == 14):  # part of 2 frames\n",
    "                                two_frames = True\n",
    "                                name, global_idx,local_idx, word, lemma, pos_tag1, pos_tag2, dep1, dep_id, dep_name,_,_, label, label2 = line\n",
    "                                sentence.append([lemma,pos_tag2])\n",
    "                                label1, label2 = split_label(label,lemma), split_label(label2,lemma)\n",
    "                                sentence_labels.append(label1)\n",
    "                                sentence_labels2.append(label2)\n",
    "                            if (len(line) == 0): # new sentence\n",
    "                                Sentences.append(sentence)\n",
    "                                Labels.append(sentence_labels)\n",
    "                                if two_frames != False:\n",
    "                                    Sentences.append(sentence)\n",
    "                                    Labels.append(sentence_labels2)\n",
    "                                    two_frames = False\n",
    "                                sentence,sentence_labels = [],[]\n",
    "    with open('sentences', 'wb') as fp:\n",
    "        pickle.dump(Sentences, fp)\n",
    "    with open('labels', 'wb') as fp:\n",
    "        pickle.dump(Labels, fp)\n",
    "    return Sentences, Labels"
   ]
  },
  {
   "cell_type": "markdown",
   "metadata": {},
   "source": [
    "## split the corpus <br>\n",
    "Below we will define functions to split the corpus into multiple corpuses as discussed in the paper. For each lexical unit a corpus is created of only sentences that contain that lexical unit. "
   ]
  },
  {
   "cell_type": "code",
   "execution_count": 2,
   "metadata": {},
   "outputs": [],
   "source": [
    "def create_corpussus(Sentences,Labels):\n",
    "    sentences_per_corpus = [[] for _ in range(0,len(lexical_units))]\n",
    "    labels_per_corpus = [[] for _ in range(0,len(lexical_units))]\n",
    "    for s,l in zip(sentences, labels):\n",
    "        in_frames = False\n",
    "        for word_and_pos, word_label in zip (s,l):\n",
    "            word = word_and_pos[0]\n",
    "            sem_label, fram_label, fe_label = word_label\n",
    "            if word in lexical_units:\n",
    "                in_frames = word\n",
    "        if in_frames != False:\n",
    "            index = lexical_units.index(in_frames)\n",
    "            sentences_per_corpus[index].append(s)\n",
    "            labels_per_corpus[index].append(l)\n",
    "    return labels_per_corpus, sentences_per_corpus"
   ]
  },
  {
   "cell_type": "markdown",
   "metadata": {},
   "source": [
    "## Here we will define our preprocessing <br>\n",
    "Feature extraction is done for every word and corresponding label, for every word we include the word and positional tag of itself and its neighboor in both directions. "
   ]
  },
  {
   "cell_type": "code",
   "execution_count": 3,
   "metadata": {},
   "outputs": [],
   "source": [
    "def preprocess_sentence(sent):\n",
    "    result = []\n",
    "    for i,data in enumerate(sent):\n",
    "        word = data[0]\n",
    "        postag = data[1]\n",
    "        features = {\n",
    "        'bias': 1.0,\n",
    "        'word.lower()': word.lower(),\n",
    "        'word[-3:]': word[-3:],\n",
    "        'word[-2:]': word[-2:],\n",
    "        'word.isupper()': word.isupper(),\n",
    "        'word.istitle()': word.istitle(),\n",
    "        'word.isdigit()': word.isdigit(),\n",
    "        'postag': postag,\n",
    "        'postag[:2]': postag[:2],\n",
    "        }\n",
    "        if i > 0:\n",
    "            word1 = sent[i-1][0]\n",
    "            postag1 = sent[i-1][1]\n",
    "            features.update({\n",
    "                '-1:word.lower()': word1.lower(),\n",
    "                '-1:word.istitle()': word1.istitle(),\n",
    "                '-1:word.isupper()': word1.isupper(),\n",
    "                '-1:postag': postag1,\n",
    "                '-1:postag[:2]': postag1[:2],\n",
    "            })\n",
    "        else:\n",
    "            features['BOS'] = True\n",
    "\n",
    "        if i < len(sent)-1:\n",
    "            word1 = sent[i+1][0]\n",
    "            postag1 = sent[i+1][1]\n",
    "            features.update({\n",
    "                '+1:word.lower()': word1.lower(),\n",
    "                '+1:word.istitle()': word1.istitle(),\n",
    "                '+1:word.isupper()': word1.isupper(),\n",
    "                '+1:postag': postag1,\n",
    "                '+1:postag[:2]': postag1[:2],\n",
    "            })\n",
    "        else:\n",
    "            features['EOS'] = True\n",
    "        result.append(features)\n",
    "    return result       \n",
    "def preprocess_labels(nested_labels):\n",
    "    Y_semantic = []\n",
    "    Y_frame = []\n",
    "    Y_fe = []\n",
    "    y_Combined = []\n",
    "    for Labels in nested_labels:\n",
    "        y_semantic = []\n",
    "        y_frame = []\n",
    "        y_fe = []\n",
    "        y_combined = []\n",
    "        for semantic_label, frame_label, fe_label in Labels:\n",
    "            y_semantic.append(semantic_label)\n",
    "            y_frame.append(frame_label)#Frame_labels.index(frame_label))\n",
    "            y_fe.append(fe_label)\n",
    "            y_combined.append(semantic_label+':'+frame_label+':'+fe_label)\n",
    "        Y_semantic.append(y_semantic)\n",
    "        Y_frame.append(y_frame)\n",
    "        Y_fe.append(y_fe)\n",
    "        y_Combined.append(y_combined)\n",
    "    return Y_semantic , Y_frame, Y_fe, y_Combined\n",
    "def preprocess_data(sent,Labels):\n",
    "    X_data= [] \n",
    "    for s in sent:\n",
    "        X_data.append(preprocess_sentence(s))\n",
    "    y_semantic , Y_frame, y_fe, y_combined =preprocess_labels(Labels)\n",
    "    return X_data, y_semantic , Y_frame, y_fe, y_combined"
   ]
  },
  {
   "cell_type": "markdown",
   "metadata": {},
   "source": [
    "## splitting corpusses <br>\n",
    "The code below is used to split the corpus into multiple corpusses, one per lexical unit."
   ]
  },
  {
   "cell_type": "code",
   "execution_count": 4,
   "metadata": {},
   "outputs": [
    {
     "name": "stdout",
     "output_type": "stream",
     "text": [
      "lenth of corpus 0 for trouver is 1168\n",
      "lenth of corpus 1 for exister is 250\n",
      "lenth of corpus 2 for retrouver is 589\n",
      "lenth of corpus 3 for localisation is 63\n",
      "lenth of corpus 4 for existence is 152\n",
      "lenth of corpus 5 for quitter is 194\n",
      "lenth of corpus 6 for départ is 137\n"
     ]
    }
   ],
   "source": [
    "sentences, labels = load_data()\n",
    "#split corpus in one corpus per possible frames, containing only sentences that contain a lexical unit for that frame\n",
    "labels_per_corpus, sentences_per_corpus= create_corpussus(sentences,labels)\n",
    "for i, corpus in enumerate(sentences_per_corpus):\n",
    "    print( \"lenth of corpus \"+ str(i)+ \" for \" + lexical_units[i] + \" is \" + str(len(corpus)))"
   ]
  },
  {
   "cell_type": "markdown",
   "metadata": {},
   "source": [
    "## training our models <br>\n",
    "For each of these corpusses we will train a conditional random field, the label that will be used is all of the 3 other labels appended to eachother. <br>\n",
    "For semantic and frame_element labels there are 3 different possibilities and for frame label there are for. This makes the total number of possible labels 3X3X4 = 36."
   ]
  },
  {
   "cell_type": "code",
   "execution_count": 5,
   "metadata": {},
   "outputs": [],
   "source": [
    "#preprocess each corpus\n",
    "x_data , y_semantic , Y_frame , y_fe, y_combined = [], [], [], [], []\n",
    "for data, labels in zip(sentences_per_corpus,labels_per_corpus ):\n",
    "    X_data_ci, y_semantic_ci , Y_frame_ci, y_fe_ci, y_combined_ci = preprocess_data(data,labels)\n",
    "    x_data.append(X_data_ci)\n",
    "    y_semantic.append(y_semantic_ci)\n",
    "    Y_frame.append(Y_frame_ci)\n",
    "    y_fe.append(y_fe_ci)\n",
    "    y_combined.append(y_combined_ci)"
   ]
  },
  {
   "cell_type": "code",
   "execution_count": 6,
   "metadata": {},
   "outputs": [],
   "source": [
    "CRF_i = []\n",
    "final_test_x = [] \n",
    "final_test_y = []\n",
    "combined_y  = []\n",
    "for x,y in zip(x_data, y_combined):\n",
    "    X_train_c1, X_test_c1, y_train_c1, y_test_c1 = train_test_split(x, y, test_size=0.2)\n",
    "    crf_c1 = sklearn_crfsuite.CRF(\n",
    "    algorithm='lbfgs',\n",
    "    c1=0.3,\n",
    "    c2=0.2,\n",
    "    max_iterations=100,\n",
    "    all_possible_transitions=True\n",
    "    ).fit(X_train_c1, y_train_c1)\n",
    "    CRF_i.append(crf_c1)\n",
    "    final_test_x.extend(X_test_c1)\n",
    "    final_test_y.extend(y_test_c1)"
   ]
  },
  {
   "cell_type": "markdown",
   "metadata": {},
   "source": [
    "## filter predictions\n",
    "In the paper a filter is used to only keep valid predictions, here we will do the same. The code below filters out all predictions that don't satisfy the following 2 constrains: <br>\n",
    "- The first frame element is labeled as B\n",
    "- The sentence contains a lexical unit"
   ]
  },
  {
   "cell_type": "code",
   "execution_count": 7,
   "metadata": {},
   "outputs": [],
   "source": [
    "def coherence_filter(sentence, sentence_labels):\n",
    "    contains_target = False\n",
    "    starts_with_b = False\n",
    "    first = True\n",
    "    for word ,label in zip(sentence, sentence_labels):\n",
    "        word = word['word.lower()']\n",
    "        semantic, frame, fe = label.split(':')\n",
    "        if semantic != 'O':\n",
    "            if semantic == 'B' and first:\n",
    "                starts_with_b = True\n",
    "            first = False\n",
    "        if fe == 'TARGET':\n",
    "            contains_target = True\n",
    "    return (contains_target and starts_with_b )"
   ]
  },
  {
   "cell_type": "code",
   "execution_count": 8,
   "metadata": {
    "scrolled": true
   },
   "outputs": [],
   "source": [
    "predictions_i = []\n",
    "labels = list(CRF_i[0].classes_)\n",
    "for i in range(0,len(CRF_i)):\n",
    "    pred = CRF_i[i].predict(final_test_x)\n",
    "    predictions_i.append(pred)"
   ]
  },
  {
   "cell_type": "code",
   "execution_count": 9,
   "metadata": {},
   "outputs": [],
   "source": [
    "filtered_indexes = np.zeros([len(predictions_i), len(final_test_x)])\n",
    "for i, pred in enumerate(predictions_i):\n",
    "    j = 0\n",
    "    for sentence,prediction in zip (final_test_x, pred):\n",
    "        keep = coherence_filter(sentence,prediction)\n",
    "        if keep:\n",
    "            filtered_indexes[i,j] = 1\n",
    "        j+=1"
   ]
  },
  {
   "cell_type": "code",
   "execution_count": 10,
   "metadata": {},
   "outputs": [],
   "source": [
    "samples_global =[]\n",
    "predictions_global =[]\n",
    "labels_global = []\n",
    "for i in range(0, filtered_indexes.shape[1] ):\n",
    "    for j, val in enumerate(filtered_indexes[:,i]):\n",
    "        if int(val) == 1:\n",
    "            x_sample = final_test_x[i]\n",
    "            y_sample = final_test_y[i]\n",
    "            y_pred = predictions_i[j][i]\n",
    "            samples_global.append(x_sample)\n",
    "            labels_global.append(y_sample)\n",
    "            predictions_global.append(y_pred)"
   ]
  },
  {
   "cell_type": "markdown",
   "metadata": {},
   "source": [
    "## Evaluating results <br>\n",
    "In the code below we will evaluate the predictions that were kept after filtering out. <br>\n",
    "For statistical analysis over the whole test set, I will present the F1 score, Q3 score, MCC score and multiple confusion matrices for each of the 3 labels. "
   ]
  },
  {
   "cell_type": "code",
   "execution_count": 11,
   "metadata": {},
   "outputs": [],
   "source": [
    "def get_confusion_matrices(preds,labels):\n",
    "    matrix_frames = np.zeros([len(Frame_labels) , len(Frame_labels)])\n",
    "    matrix_fe = np.zeros([len(FE_labels) , len(FE_labels)])\n",
    "    matrix_sem = np.zeros([len(Semantic_labels) , len(Semantic_labels)])\n",
    "    for pred, truth in zip(preds,labels):\n",
    "        for predicted_label, true_label in zip(pred,truth):\n",
    "            semantic_pred, frame_pred, fe_pred = predicted_label.split(':')\n",
    "            semantic_true, frame_true, fe_true = true_label.split(':')\n",
    "            semantic_pred, frame_pred, fe_pred = Semantic_labels.index(semantic_pred) , Frame_labels.index(frame_pred), FE_labels.index(fe_pred)\n",
    "            semantic_true, frame_true, fe_true = Semantic_labels.index(semantic_true) , Frame_labels.index(frame_true), FE_labels.index(fe_true)\n",
    "            matrix_frames[frame_pred,frame_true] +=1\n",
    "            matrix_fe[fe_pred,fe_true] +=1\n",
    "            matrix_sem[semantic_pred,semantic_true] +=1\n",
    "    return matrix_frames, matrix_fe, matrix_sem"
   ]
  },
  {
   "cell_type": "code",
   "execution_count": 12,
   "metadata": {},
   "outputs": [],
   "source": [
    "#Prints out the confusion matrix aswell as precision recall and F-score for each class\n",
    "def printResult(matrix,labels):\n",
    "    mcc =printStats(matrix,labels)\n",
    "    plot_matrix(matrix,labels)\n",
    "    return matrix ,mcc\n",
    "\n",
    "def plot_matrix(conf_mat,labels):\n",
    "    conf_mat_normalized = conf_mat.astype('float') / conf_mat.sum(axis=1)[:, np.newaxis]\n",
    "    f_cm = pd.DataFrame(conf_mat_normalized, labels,\n",
    "                  labels)\n",
    "    sn.heatmap(f_cm)\n",
    "    plt.ylabel('True label')\n",
    "    plt.xlabel('Predicted label')\n",
    "    \n",
    "def printStats(matrix,labels):\n",
    "    i = 0\n",
    "    MCC = MCCscore(matrix)\n",
    "    Q1 = Q1Score(matrix)\n",
    "    F1 = F1_score (matrix)\n",
    "    for mcc , q1, f1 in zip ( MCC , Q1, F1):\n",
    "        l = labels[i]\n",
    "        i+=1\n",
    "        print(\"The MCC score for \" + l + \" equal \" + \"{0:0.2f}\".format(mcc))\n",
    "        print(\"The Q1 score for \" + l + \" equal \" + \"{0:0.2f}\".format(q1))\n",
    "        print(\"The F1 score for \" + l + \" equal \" + \"{0:0.2f}\".format(f1))\n",
    "    print(\"mean MCC score = \" + \"{0:0.2f}\".format(np.mean(MCC)))\n",
    "    print(\"mean Q1 score = \" + \"{0:0.2f}\".format(np.mean(Q1)))\n",
    "    print(\"mean F1 score = \" + \"{0:0.2f}\".format(np.mean(F1)))\n",
    "    return  np.mean(MCC)\n",
    "\n",
    "def F1_score (matrix):\n",
    "    res = np.zeros(matrix.shape[0])\n",
    "    for i in range (0,len(res)):\n",
    "        TP = matrix[i][i]\n",
    "        TN = np.sum ( np.delete (np.delete(matrix, i, 0), i, 1))\n",
    "        FP = np.sum(matrix[:,i])-TP\n",
    "        FN = np.sum(matrix[i,:]) - TP\n",
    "        TP, FP, FN = np.max([TP,1]),np.max([FP,1]),np.max([FN,1])\n",
    "        recall = TP/ (TP+FN)\n",
    "        precision = TP/ (TP+FP)\n",
    "        f1 = 2* (precision*recall)/ (precision+recall)\n",
    "        res[i] += f1\n",
    "    return res\n",
    "\n",
    "def Q1Score (matrix):\n",
    "    res = np.zeros(matrix.shape[0])\n",
    "    for i in range (0,len(res)):\n",
    "        total = np.sum(matrix[i])\n",
    "        correct = matrix[i][i]\n",
    "        total = np.max([total,1])\n",
    "        res[i] += float(correct)/float(total)\n",
    "    return res\n",
    "\n",
    "def MCCscore(matrix):\n",
    "    res = np.zeros(matrix.shape[0])\n",
    "    for i in range (0,len(res)):\n",
    "        TP = matrix[i][i]\n",
    "        TN = np.sum ( np.delete (np.delete(matrix, i, 0), i, 1))\n",
    "        FP = np.sum(matrix[:,i])-TP\n",
    "        FN = np.sum(matrix[i,:]) - TP\n",
    "        TP, FP, FN = np.max([TP,1]),np.max([FP,1]),np.max([FN,1])\n",
    "        mcc = (TP*TN - FP * FN) / np.sqrt( (TP+FP) * (TP+FN) * (TN+FP) * (TN+FN) )\n",
    "        res[i] += mcc\n",
    "    return res"
   ]
  },
  {
   "cell_type": "markdown",
   "metadata": {},
   "source": [
    "## evaluating statistical metrices over test set"
   ]
  },
  {
   "cell_type": "code",
   "execution_count": 13,
   "metadata": {},
   "outputs": [],
   "source": [
    "matrix_frames, matrix_fe, matrix_sem = get_confusion_matrices(predictions_global,labels_global)"
   ]
  },
  {
   "cell_type": "code",
   "execution_count": 14,
   "metadata": {},
   "outputs": [
    {
     "name": "stdout",
     "output_type": "stream",
     "text": [
      "--------------   results for frame classification --------------------\n",
      "The MCC score for Existence equal 0.44\n",
      "The Q1 score for Existence equal 0.65\n",
      "The F1 score for Existence equal 0.44\n",
      "The MCC score for Locating equal 0.56\n",
      "The Q1 score for Locating equal 0.81\n",
      "The F1 score for Locating equal 0.63\n",
      "The MCC score for Departing equal 0.74\n",
      "The Q1 score for Departing equal 0.85\n",
      "The F1 score for Departing equal 0.73\n",
      "The MCC score for none equal 0.53\n",
      "The Q1 score for none equal 0.80\n",
      "The F1 score for none equal 0.86\n",
      "mean MCC score = 0.57\n",
      "mean Q1 score = 0.78\n",
      "mean F1 score = 0.67\n"
     ]
    },
    {
     "data": {
      "image/png": "[encoded data removed]",
      "text/plain": [
       "<Figure size 432x288 with 2 Axes>"
      ]
     },
     "metadata": {},
     "output_type": "display_data"
    }
   ],
   "source": [
    "print(\"--------------   results for frame classification --------------------\")\n",
    "_=printResult(matrix_frames, Frame_labels)"
   ]
  },
  {
   "cell_type": "code",
   "execution_count": 15,
   "metadata": {},
   "outputs": [
    {
     "name": "stdout",
     "output_type": "stream",
     "text": [
      "--------------   results for frame element classification --------------------\n",
      "The MCC score for FE equal 0.49\n",
      "The Q1 score for FE equal 0.79\n",
      "The F1 score for FE equal 0.58\n",
      "The MCC score for TARGET equal 0.96\n",
      "The Q1 score for TARGET equal 0.96\n",
      "The F1 score for TARGET equal 0.97\n",
      "The MCC score for none equal 0.53\n",
      "The Q1 score for none equal 0.80\n",
      "The F1 score for none equal 0.86\n",
      "mean MCC score = 0.66\n",
      "mean Q1 score = 0.85\n",
      "mean F1 score = 0.80\n"
     ]
    },
    {
     "data": {
      "image/png": "[encoded data removed]",
      "text/plain": [
       "<Figure size 432x288 with 2 Axes>"
      ]
     },
     "metadata": {},
     "output_type": "display_data"
    }
   ],
   "source": [
    "print(\"--------------   results for frame element classification --------------------\")\n",
    "_=printResult(matrix_fe,FE_labels)"
   ]
  },
  {
   "cell_type": "code",
   "execution_count": 16,
   "metadata": {
    "scrolled": false
   },
   "outputs": [
    {
     "name": "stdout",
     "output_type": "stream",
     "text": [
      "--------------   results for semantic label classification ------------------\n",
      "The MCC score for O equal 0.53\n",
      "The Q1 score for O equal 0.80\n",
      "The F1 score for O equal 0.86\n",
      "The MCC score for B equal 0.74\n",
      "The Q1 score for B equal 0.87\n",
      "The F1 score for B equal 0.76\n",
      "The MCC score for I equal 0.46\n",
      "The Q1 score for I equal 0.73\n",
      "The F1 score for I equal 0.52\n",
      "mean MCC score = 0.58\n",
      "mean Q1 score = 0.80\n",
      "mean F1 score = 0.72\n"
     ]
    },
    {
     "data": {
      "image/png": "[encoded data removed]",
      "text/plain": [
       "<Figure size 432x288 with 2 Axes>"
      ]
     },
     "metadata": {},
     "output_type": "display_data"
    }
   ],
   "source": [
    "print(\"--------------   results for semantic label classification ------------------\")\n",
    "_= printResult(matrix_sem,Semantic_labels)"
   ]
  },
  {
   "cell_type": "code",
   "execution_count": 17,
   "metadata": {},
   "outputs": [
    {
     "name": "stdout",
     "output_type": "stream",
     "text": [
      "                    precision    recall  f1-score   support\n",
      "\n",
      "    B:Departing:FE       0.83      0.63      0.72       106\n",
      "B:Departing:TARGET       0.93      0.97      0.95        40\n",
      "    B:Existence:FE       0.58      0.24      0.34       171\n",
      "B:Existence:TARGET       0.94      0.94      0.94       104\n",
      "     B:Locating:FE       0.82      0.55      0.66       842\n",
      " B:Locating:TARGET       0.97      0.98      0.97       368\n",
      "    I:Departing:FE       0.79      0.54      0.64       192\n",
      "    I:Existence:FE       0.54      0.25      0.34       700\n",
      "     I:Locating:FE       0.73      0.41      0.53      2725\n",
      "       O:none:none       0.80      0.94      0.86     10739\n",
      "\n",
      "       avg / total       0.78      0.79      0.77     15987\n",
      "\n",
      "F1-score for set of 36 classifications : 0.77\n"
     ]
    }
   ],
   "source": [
    "from sklearn.metrics import classification_report \n",
    "flatten = lambda l: [item for sublist in l for item in sublist]\n",
    "score_1 =  metrics.flat_f1_score(labels_global, predictions_global,\n",
    "                      average='weighted', labels=labels)\n",
    "print(classification_report(flatten(labels_global), flatten(predictions_global)))\n",
    "print(\"F1-score for set of 36 classifications : \" + \"%.2f\" % score_1)"
   ]
  },
  {
   "cell_type": "markdown",
   "metadata": {},
   "source": [
    "## Discussion <br>\n",
    "We decided to display the results of each classification seperately to give a clearer overview of which parts are most difficult. <br>\n",
    "Frame classification : We see that \"existance\" has the lowest precision, this is most likely because this was one of the least frequent occuring frames in the corpus. <br>\n",
    "\n",
    "Frame element classification: We see that no mistakes were made in correctly identifying the lexical unit, however sometimes it mislabeles frame elements. <br>\n",
    "\n",
    "Semantic classification: We see that the model is quite certain about when a word should be labeled as 'B', however it does make some mistakes in labeling 'I' and 'O'(whether a word is inside the frame)."
   ]
  },
  {
   "cell_type": "markdown",
   "metadata": {},
   "source": [
    "## Evaluating single samples"
   ]
  },
  {
   "cell_type": "code",
   "execution_count": 18,
   "metadata": {},
   "outputs": [],
   "source": [
    "pred1 = predictions_global[54]\n",
    "true1 = labels_global[54]\n",
    "sample = samples_global"
   ]
  },
  {
   "cell_type": "code",
   "execution_count": 19,
   "metadata": {},
   "outputs": [],
   "source": [
    "def print_sample(index):\n",
    "    pred = predictions_global[index]\n",
    "    true = labels_global[index]\n",
    "    sample = samples_global[index]\n",
    "    sample = [w['word.lower()'] for w in sample]\n",
    "    sample_string = ' '.join(sample)\n",
    "    correct,incorrect = 0,0\n",
    "    print(sample_string + '\\n')\n",
    "    for p,t,s in zip(true,pred,sample):\n",
    "        print(\"target : \\t \" + t + \" \\t prediction: \" + p +' \\t word :' + s+ '\\n')\n",
    "        if t==p:\n",
    "            correct+=1\n",
    "        else:\n",
    "            incorrect +=1\n",
    "    accuracy = float(float(correct)/float((correct+incorrect)))\n",
    "    print (str(correct) +\"/\" +str(correct+incorrect) + \" predictions were correct\")"
   ]
  },
  {
   "cell_type": "code",
   "execution_count": 20,
   "metadata": {},
   "outputs": [
    {
     "name": "stdout",
     "output_type": "stream",
     "text": [
      "l' archéologue christian goudineau s' interroger sur le existence de un délai entre le fondation et le installation des premier colon mais conclure que rien ne permettre de#l' affirmer ou de#l' infirmer en expliquer que le couche stratigraphiques de référence , pour le période 50 av.\n",
      "\n",
      "target : \t O:none:none \t prediction: B:Existence:FE \t word :l'\n",
      "\n",
      "target : \t O:none:none \t prediction: I:Existence:FE \t word :archéologue\n",
      "\n",
      "target : \t O:none:none \t prediction: I:Existence:FE \t word :christian\n",
      "\n",
      "target : \t O:none:none \t prediction: I:Existence:FE \t word :goudineau\n",
      "\n",
      "target : \t O:none:none \t prediction: I:Existence:FE \t word :s'\n",
      "\n",
      "target : \t O:none:none \t prediction: I:Existence:FE \t word :interroger\n",
      "\n",
      "target : \t O:none:none \t prediction: O:none:none \t word :sur\n",
      "\n",
      "target : \t O:none:none \t prediction: O:none:none \t word :le\n",
      "\n",
      "target : \t B:Existence:TARGET \t prediction: B:Existence:TARGET \t word :existence\n",
      "\n",
      "target : \t O:none:none \t prediction: B:Existence:FE \t word :de\n",
      "\n",
      "target : \t O:none:none \t prediction: I:Existence:FE \t word :un\n",
      "\n",
      "target : \t O:none:none \t prediction: I:Existence:FE \t word :délai\n",
      "\n",
      "target : \t O:none:none \t prediction: I:Existence:FE \t word :entre\n",
      "\n",
      "target : \t O:none:none \t prediction: I:Existence:FE \t word :le\n",
      "\n",
      "target : \t O:none:none \t prediction: I:Existence:FE \t word :fondation\n",
      "\n",
      "target : \t O:none:none \t prediction: I:Existence:FE \t word :et\n",
      "\n",
      "target : \t O:none:none \t prediction: I:Existence:FE \t word :le\n",
      "\n",
      "target : \t O:none:none \t prediction: I:Existence:FE \t word :installation\n",
      "\n",
      "target : \t O:none:none \t prediction: I:Existence:FE \t word :des\n",
      "\n",
      "target : \t O:none:none \t prediction: I:Existence:FE \t word :premier\n",
      "\n",
      "target : \t O:none:none \t prediction: I:Existence:FE \t word :colon\n",
      "\n",
      "target : \t O:none:none \t prediction: O:none:none \t word :mais\n",
      "\n",
      "target : \t O:none:none \t prediction: O:none:none \t word :conclure\n",
      "\n",
      "target : \t O:none:none \t prediction: O:none:none \t word :que\n",
      "\n",
      "target : \t O:none:none \t prediction: O:none:none \t word :rien\n",
      "\n",
      "target : \t O:none:none \t prediction: O:none:none \t word :ne\n",
      "\n",
      "target : \t O:none:none \t prediction: O:none:none \t word :permettre\n",
      "\n",
      "target : \t O:none:none \t prediction: O:none:none \t word :de#l'\n",
      "\n",
      "target : \t O:none:none \t prediction: O:none:none \t word :affirmer\n",
      "\n",
      "target : \t O:none:none \t prediction: O:none:none \t word :ou\n",
      "\n",
      "target : \t O:none:none \t prediction: O:none:none \t word :de#l'\n",
      "\n",
      "target : \t O:none:none \t prediction: O:none:none \t word :infirmer\n",
      "\n",
      "target : \t O:none:none \t prediction: O:none:none \t word :en\n",
      "\n",
      "target : \t O:none:none \t prediction: O:none:none \t word :expliquer\n",
      "\n",
      "target : \t O:none:none \t prediction: O:none:none \t word :que\n",
      "\n",
      "target : \t O:none:none \t prediction: O:none:none \t word :le\n",
      "\n",
      "target : \t O:none:none \t prediction: O:none:none \t word :couche\n",
      "\n",
      "target : \t O:none:none \t prediction: O:none:none \t word :stratigraphiques\n",
      "\n",
      "target : \t O:none:none \t prediction: O:none:none \t word :de\n",
      "\n",
      "target : \t O:none:none \t prediction: O:none:none \t word :référence\n",
      "\n",
      "target : \t O:none:none \t prediction: O:none:none \t word :,\n",
      "\n",
      "target : \t O:none:none \t prediction: O:none:none \t word :pour\n",
      "\n",
      "target : \t O:none:none \t prediction: O:none:none \t word :le\n",
      "\n",
      "target : \t O:none:none \t prediction: O:none:none \t word :période\n",
      "\n",
      "target : \t O:none:none \t prediction: O:none:none \t word :50\n",
      "\n",
      "target : \t O:none:none \t prediction: O:none:none \t word :av.\n",
      "\n",
      "28/46 predictions were correct\n"
     ]
    }
   ],
   "source": [
    "print_sample(440)"
   ]
  },
  {
   "cell_type": "code",
   "execution_count": 21,
   "metadata": {},
   "outputs": [
    {
     "name": "stdout",
     "output_type": "stream",
     "text": [
      "on trouver de le terre partout , dans son poche , dans son mouchoir , dans son habit , dans ce#qu' on manger .\n",
      "\n",
      "target : \t B:Locating:FE \t prediction: B:Locating:FE \t word :on\n",
      "\n",
      "target : \t B:Locating:TARGET \t prediction: B:Locating:TARGET \t word :trouver\n",
      "\n",
      "target : \t B:Locating:FE \t prediction: O:none:none \t word :de\n",
      "\n",
      "target : \t I:Locating:FE \t prediction: B:Locating:FE \t word :le\n",
      "\n",
      "target : \t I:Locating:FE \t prediction: I:Locating:FE \t word :terre\n",
      "\n",
      "target : \t I:Locating:FE \t prediction: B:Locating:FE \t word :partout\n",
      "\n",
      "target : \t I:Locating:FE \t prediction: I:Locating:FE \t word :,\n",
      "\n",
      "target : \t I:Locating:FE \t prediction: I:Locating:FE \t word :dans\n",
      "\n",
      "target : \t I:Locating:FE \t prediction: I:Locating:FE \t word :son\n",
      "\n",
      "target : \t I:Locating:FE \t prediction: I:Locating:FE \t word :poche\n",
      "\n",
      "target : \t O:none:none \t prediction: I:Locating:FE \t word :,\n",
      "\n",
      "target : \t O:none:none \t prediction: I:Locating:FE \t word :dans\n",
      "\n",
      "target : \t O:none:none \t prediction: I:Locating:FE \t word :son\n",
      "\n",
      "target : \t O:none:none \t prediction: I:Locating:FE \t word :mouchoir\n",
      "\n",
      "target : \t O:none:none \t prediction: I:Locating:FE \t word :,\n",
      "\n",
      "target : \t O:none:none \t prediction: I:Locating:FE \t word :dans\n",
      "\n",
      "target : \t O:none:none \t prediction: I:Locating:FE \t word :son\n",
      "\n",
      "target : \t O:none:none \t prediction: I:Locating:FE \t word :habit\n",
      "\n",
      "target : \t O:none:none \t prediction: I:Locating:FE \t word :,\n",
      "\n",
      "target : \t O:none:none \t prediction: I:Locating:FE \t word :dans\n",
      "\n",
      "target : \t O:none:none \t prediction: I:Locating:FE \t word :ce#qu'\n",
      "\n",
      "target : \t O:none:none \t prediction: I:Locating:FE \t word :on\n",
      "\n",
      "target : \t O:none:none \t prediction: I:Locating:FE \t word :manger\n",
      "\n",
      "target : \t O:none:none \t prediction: O:none:none \t word :.\n",
      "\n",
      "8/24 predictions were correct\n"
     ]
    }
   ],
   "source": [
    "print_sample(9)"
   ]
  },
  {
   "cell_type": "code",
   "execution_count": 33,
   "metadata": {},
   "outputs": [
    {
     "name": "stdout",
     "output_type": "stream",
     "text": [
      "on quitter bavay par le route de maubeuge d95 puis n49 que l'on abandonner à son premier virage pour gagner feignies où elle porter le nom de rue de le chaussée brunehault .\n",
      "\n",
      "target : \t B:Departing:FE \t prediction: B:Departing:FE \t word :on\n",
      "\n",
      "target : \t B:Departing:TARGET \t prediction: B:Departing:TARGET \t word :quitter\n",
      "\n",
      "target : \t B:Departing:FE \t prediction: B:Departing:FE \t word :bavay\n",
      "\n",
      "target : \t O:none:none \t prediction: B:Departing:FE \t word :par\n",
      "\n",
      "target : \t O:none:none \t prediction: I:Departing:FE \t word :le\n",
      "\n",
      "target : \t O:none:none \t prediction: I:Departing:FE \t word :route\n",
      "\n",
      "target : \t O:none:none \t prediction: I:Departing:FE \t word :de\n",
      "\n",
      "target : \t O:none:none \t prediction: I:Departing:FE \t word :maubeuge\n",
      "\n",
      "target : \t O:none:none \t prediction: I:Departing:FE \t word :d95\n",
      "\n",
      "target : \t O:none:none \t prediction: I:Departing:FE \t word :puis\n",
      "\n",
      "target : \t O:none:none \t prediction: I:Departing:FE \t word :n49\n",
      "\n",
      "target : \t O:none:none \t prediction: O:none:none \t word :que\n",
      "\n",
      "target : \t O:none:none \t prediction: O:none:none \t word :l'on\n",
      "\n",
      "target : \t O:none:none \t prediction: O:none:none \t word :abandonner\n",
      "\n",
      "target : \t O:none:none \t prediction: O:none:none \t word :à\n",
      "\n",
      "target : \t O:none:none \t prediction: O:none:none \t word :son\n",
      "\n",
      "target : \t O:none:none \t prediction: O:none:none \t word :premier\n",
      "\n",
      "target : \t O:none:none \t prediction: O:none:none \t word :virage\n",
      "\n",
      "target : \t O:none:none \t prediction: O:none:none \t word :pour\n",
      "\n",
      "target : \t B:Departing:FE \t prediction: O:none:none \t word :gagner\n",
      "\n",
      "target : \t I:Departing:FE \t prediction: O:none:none \t word :feignies\n",
      "\n",
      "target : \t O:none:none \t prediction: O:none:none \t word :où\n",
      "\n",
      "target : \t O:none:none \t prediction: O:none:none \t word :elle\n",
      "\n",
      "target : \t O:none:none \t prediction: O:none:none \t word :porter\n",
      "\n",
      "target : \t O:none:none \t prediction: O:none:none \t word :le\n",
      "\n",
      "target : \t O:none:none \t prediction: O:none:none \t word :nom\n",
      "\n",
      "target : \t O:none:none \t prediction: O:none:none \t word :de\n",
      "\n",
      "target : \t O:none:none \t prediction: O:none:none \t word :rue\n",
      "\n",
      "target : \t O:none:none \t prediction: O:none:none \t word :de\n",
      "\n",
      "target : \t O:none:none \t prediction: O:none:none \t word :le\n",
      "\n",
      "target : \t O:none:none \t prediction: O:none:none \t word :chaussée\n",
      "\n",
      "target : \t O:none:none \t prediction: O:none:none \t word :brunehault\n",
      "\n",
      "target : \t O:none:none \t prediction: O:none:none \t word :.\n",
      "\n",
      "23/33 predictions were correct\n"
     ]
    }
   ],
   "source": [
    "print_sample(488)"
   ]
  },
  {
   "cell_type": "markdown",
   "metadata": {},
   "source": [
    "## Discussion <br>\n",
    "We evaluated 3 samples all displaying a different frame, on all these samples the model performed decent. It always managed to find the correct target, but sometimes it recognises frame elements where there are none."
   ]
  },
  {
   "cell_type": "code",
   "execution_count": null,
   "metadata": {},
   "outputs": [],
   "source": []
  }
 ],
 "metadata": {
  "kernelspec": {
   "display_name": "Python 3",
   "language": "python",
   "name": "python3"
  },
  "language_info": {
   "codemirror_mode": {
    "name": "ipython",
    "version": 3
   },
   "file_extension": ".py",
   "mimetype": "text/x-python",
   "name": "python",
   "nbconvert_exporter": "python",
   "pygments_lexer": "ipython3",
   "version": "3.6.5"
  }
 },
 "nbformat": 4,
 "nbformat_minor": 2
}
